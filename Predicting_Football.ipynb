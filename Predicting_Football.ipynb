{
  "nbformat": 4,
  "nbformat_minor": 0,
  "metadata": {
    "colab": {
      "name": "Predicting Football.ipynb",
      "provenance": [],
      "authorship_tag": "ABX9TyNNoqVxtcHryb/xcT/yB7hl",
      "include_colab_link": true
    },
    "kernelspec": {
      "name": "python3",
      "display_name": "Python 3"
    }
  },
  "cells": [
    {
      "cell_type": "markdown",
      "metadata": {
        "id": "view-in-github",
        "colab_type": "text"
      },
      "source": [
        "<a href=\"https://colab.research.google.com/github/ola-sumbo/NG-task3/blob/master/Predicting_Football.ipynb\" target=\"_parent\"><img src=\"https://colab.research.google.com/assets/colab-badge.svg\" alt=\"Open In Colab\"/></a>"
      ]
    },
    {
      "cell_type": "markdown",
      "metadata": {
        "id": "407Rw4ZBc2Mh"
      },
      "source": [
        "**A Poisson Regression Model:**\n",
        "Our model was founded on the belief that the number goals can be accurately expressed as a Poisson distribution. "
      ]
    },
    {
      "cell_type": "code",
      "metadata": {
        "id": "M2B9MzZSiLiV"
      },
      "source": [
        "import pandas as pd\n",
        "import matplotlib.pyplot as plt\n",
        "import numpy as np\n",
        "import seaborn\n",
        "from scipy.stats import poisson,skellam"
      ],
      "execution_count": 1,
      "outputs": []
    },
    {
      "cell_type": "code",
      "metadata": {
        "id": "sLR_DnDKD8J3",
        "colab": {
          "base_uri": "https://localhost:8080/",
          "height": 197
        },
        "outputId": "f9d0ce0c-94b6-4b97-be63-59994ccd712d"
      },
      "source": [
        "epl_1617 = pd.read_csv(\"http://www.football-data.co.uk/mmz4281/1617/E0.csv\")\n",
        "epl_1617 = epl_1617[['HomeTeam','AwayTeam','FTHG','FTAG']] # select columns needed\n",
        "epl_1617 = epl_1617.rename(columns={'FTHG': 'HomeGoals', 'FTAG': 'AwayGoals'})\n",
        "epl_1617.head()"
      ],
      "execution_count": 2,
      "outputs": [
        {
          "output_type": "execute_result",
          "data": {
            "text/html": [
              "<div>\n",
              "<style scoped>\n",
              "    .dataframe tbody tr th:only-of-type {\n",
              "        vertical-align: middle;\n",
              "    }\n",
              "\n",
              "    .dataframe tbody tr th {\n",
              "        vertical-align: top;\n",
              "    }\n",
              "\n",
              "    .dataframe thead th {\n",
              "        text-align: right;\n",
              "    }\n",
              "</style>\n",
              "<table border=\"1\" class=\"dataframe\">\n",
              "  <thead>\n",
              "    <tr style=\"text-align: right;\">\n",
              "      <th></th>\n",
              "      <th>HomeTeam</th>\n",
              "      <th>AwayTeam</th>\n",
              "      <th>HomeGoals</th>\n",
              "      <th>AwayGoals</th>\n",
              "    </tr>\n",
              "  </thead>\n",
              "  <tbody>\n",
              "    <tr>\n",
              "      <th>0</th>\n",
              "      <td>Burnley</td>\n",
              "      <td>Swansea</td>\n",
              "      <td>0</td>\n",
              "      <td>1</td>\n",
              "    </tr>\n",
              "    <tr>\n",
              "      <th>1</th>\n",
              "      <td>Crystal Palace</td>\n",
              "      <td>West Brom</td>\n",
              "      <td>0</td>\n",
              "      <td>1</td>\n",
              "    </tr>\n",
              "    <tr>\n",
              "      <th>2</th>\n",
              "      <td>Everton</td>\n",
              "      <td>Tottenham</td>\n",
              "      <td>1</td>\n",
              "      <td>1</td>\n",
              "    </tr>\n",
              "    <tr>\n",
              "      <th>3</th>\n",
              "      <td>Hull</td>\n",
              "      <td>Leicester</td>\n",
              "      <td>2</td>\n",
              "      <td>1</td>\n",
              "    </tr>\n",
              "    <tr>\n",
              "      <th>4</th>\n",
              "      <td>Man City</td>\n",
              "      <td>Sunderland</td>\n",
              "      <td>2</td>\n",
              "      <td>1</td>\n",
              "    </tr>\n",
              "  </tbody>\n",
              "</table>\n",
              "</div>"
            ],
            "text/plain": [
              "         HomeTeam    AwayTeam  HomeGoals  AwayGoals\n",
              "0         Burnley     Swansea          0          1\n",
              "1  Crystal Palace   West Brom          0          1\n",
              "2         Everton   Tottenham          1          1\n",
              "3            Hull   Leicester          2          1\n",
              "4        Man City  Sunderland          2          1"
            ]
          },
          "metadata": {
            "tags": []
          },
          "execution_count": 2
        }
      ]
    },
    {
      "cell_type": "code",
      "metadata": {
        "colab": {
          "base_uri": "https://localhost:8080/"
        },
        "id": "EWzX4wLRcCGO",
        "outputId": "d87a8b0e-d170-4b3b-e58f-16a20fb43f9b"
      },
      "source": [
        "# our task is to model the last 10 games so we remove the last 10 game played for prediction\n",
        "epl_1617 = epl_1617[:-10]\n",
        "epl_1617.mean()"
      ],
      "execution_count": 3,
      "outputs": [
        {
          "output_type": "execute_result",
          "data": {
            "text/plain": [
              "HomeGoals    1.591892\n",
              "AwayGoals    1.183784\n",
              "dtype: float64"
            ]
          },
          "metadata": {
            "tags": []
          },
          "execution_count": 3
        }
      ]
    },
    {
      "cell_type": "code",
      "metadata": {
        "colab": {
          "base_uri": "https://localhost:8080/"
        },
        "id": "a6xF2wS8D-H-",
        "outputId": "c1215f5b-3e43-40ed-cc8a-2d6703f4d4bb"
      },
      "source": [
        "#probability of a draw between home and away teams\n",
        "skellam.pmf(0.0, epl_1617.mean()[0], epl_1617.mean()[1])"
      ],
      "execution_count": 4,
      "outputs": [
        {
          "output_type": "execute_result",
          "data": {
            "text/plain": [
              "0.24809376810717076"
            ]
          },
          "metadata": {
            "tags": []
          },
          "execution_count": 4
        }
      ]
    },
    {
      "cell_type": "code",
      "metadata": {
        "colab": {
          "base_uri": "https://localhost:8080/"
        },
        "id": "PBpL70zaiYm5",
        "outputId": "2f62323f-b4c4-47b3-9642-19a1f5785325"
      },
      "source": [
        "# probability of home team winning by one goal\n",
        "skellam.pmf(1,  epl_1617.mean()[0],  epl_1617.mean()[1])"
      ],
      "execution_count": 5,
      "outputs": [
        {
          "output_type": "execute_result",
          "data": {
            "text/plain": [
              "0.22706765807563964"
            ]
          },
          "metadata": {
            "tags": []
          },
          "execution_count": 5
        }
      ]
    },
    {
      "cell_type": "code",
      "metadata": {
        "colab": {
          "base_uri": "https://localhost:8080/"
        },
        "id": "yyakMsdueXlv",
        "outputId": "680fabad-633a-42fe-e249-53470f0b43e0"
      },
      "source": [
        "# importing the tools required for the Poisson regression model\n",
        "import statsmodels.api as sm\n",
        "import statsmodels.formula.api as smf"
      ],
      "execution_count": 6,
      "outputs": [
        {
          "output_type": "stream",
          "text": [
            "/usr/local/lib/python3.7/dist-packages/statsmodels/tools/_testing.py:19: FutureWarning: pandas.util.testing is deprecated. Use the functions in the public API at pandas.testing instead.\n",
            "  import pandas.util.testing as tm\n"
          ],
          "name": "stderr"
        }
      ]
    },
    {
      "cell_type": "code",
      "metadata": {
        "id": "dzTnSd2HegLb"
      },
      "source": [
        "goal_model_data = pd.concat([epl_1617[['HomeTeam', 'AwayTeam', 'HomeGoals']].assign(home=1).rename(columns={'HomeTeam':'team','AwayTeam':'opponent', 'HomeGoals':'goals'}), \n",
        "                             epl_1617[['AwayTeam','HomeTeam','AwayGoals']].assign(home=0).rename(columns={'AwayTeam':'team', 'HomeTeam':'opponent','AwayGoals':'goals'})])\n"
      ],
      "execution_count": 7,
      "outputs": []
    },
    {
      "cell_type": "code",
      "metadata": {
        "id": "j7Rl-iJchcMl"
      },
      "source": [
        "poisson_model = smf.glm(formula = \"goals ~ home + team + opponent \", data = goal_model_data, family = sm.families.Poisson()).fit()"
      ],
      "execution_count": 8,
      "outputs": []
    },
    {
      "cell_type": "code",
      "metadata": {
        "colab": {
          "base_uri": "https://localhost:8080/",
          "height": 924
        },
        "id": "WUhZSxg7XxBA",
        "outputId": "2ef9384e-93c6-43fa-ee8a-c82fc6134910"
      },
      "source": [
        "poisson_model.summary()"
      ],
      "execution_count": 9,
      "outputs": [
        {
          "output_type": "execute_result",
          "data": {
            "text/html": [
              "<table class=\"simpletable\">\n",
              "<caption>Generalized Linear Model Regression Results</caption>\n",
              "<tr>\n",
              "  <th>Dep. Variable:</th>         <td>goals</td>      <th>  No. Observations:  </th>  <td>   740</td> \n",
              "</tr>\n",
              "<tr>\n",
              "  <th>Model:</th>                  <td>GLM</td>       <th>  Df Residuals:      </th>  <td>   700</td> \n",
              "</tr>\n",
              "<tr>\n",
              "  <th>Model Family:</th>         <td>Poisson</td>     <th>  Df Model:          </th>  <td>    39</td> \n",
              "</tr>\n",
              "<tr>\n",
              "  <th>Link Function:</th>          <td>log</td>       <th>  Scale:             </th> <td>  1.0000</td>\n",
              "</tr>\n",
              "<tr>\n",
              "  <th>Method:</th>                <td>IRLS</td>       <th>  Log-Likelihood:    </th> <td> -1042.4</td>\n",
              "</tr>\n",
              "<tr>\n",
              "  <th>Date:</th>            <td>Tue, 11 May 2021</td> <th>  Deviance:          </th> <td>  776.11</td>\n",
              "</tr>\n",
              "<tr>\n",
              "  <th>Time:</th>                <td>21:42:33</td>     <th>  Pearson chi2:      </th>  <td>  659.</td> \n",
              "</tr>\n",
              "<tr>\n",
              "  <th>No. Iterations:</th>          <td>5</td>        <th>                     </th>     <td> </td>   \n",
              "</tr>\n",
              "<tr>\n",
              "  <th>Covariance Type:</th>     <td>nonrobust</td>    <th>                     </th>     <td> </td>   \n",
              "</tr>\n",
              "</table>\n",
              "<table class=\"simpletable\">\n",
              "<tr>\n",
              "               <td></td>                 <th>coef</th>     <th>std err</th>      <th>z</th>      <th>P>|z|</th>  <th>[0.025</th>    <th>0.975]</th>  \n",
              "</tr>\n",
              "<tr>\n",
              "  <th>Intercept</th>                  <td>    0.3725</td> <td>    0.198</td> <td>    1.880</td> <td> 0.060</td> <td>   -0.016</td> <td>    0.761</td>\n",
              "</tr>\n",
              "<tr>\n",
              "  <th>team[T.Bournemouth]</th>        <td>   -0.2891</td> <td>    0.179</td> <td>   -1.612</td> <td> 0.107</td> <td>   -0.641</td> <td>    0.062</td>\n",
              "</tr>\n",
              "<tr>\n",
              "  <th>team[T.Burnley]</th>            <td>   -0.6458</td> <td>    0.200</td> <td>   -3.230</td> <td> 0.001</td> <td>   -1.038</td> <td>   -0.254</td>\n",
              "</tr>\n",
              "<tr>\n",
              "  <th>team[T.Chelsea]</th>            <td>    0.0789</td> <td>    0.162</td> <td>    0.488</td> <td> 0.626</td> <td>   -0.238</td> <td>    0.396</td>\n",
              "</tr>\n",
              "<tr>\n",
              "  <th>team[T.Crystal Palace]</th>     <td>   -0.3865</td> <td>    0.183</td> <td>   -2.107</td> <td> 0.035</td> <td>   -0.746</td> <td>   -0.027</td>\n",
              "</tr>\n",
              "<tr>\n",
              "  <th>team[T.Everton]</th>            <td>   -0.2008</td> <td>    0.173</td> <td>   -1.161</td> <td> 0.246</td> <td>   -0.540</td> <td>    0.138</td>\n",
              "</tr>\n",
              "<tr>\n",
              "  <th>team[T.Hull]</th>               <td>   -0.7006</td> <td>    0.204</td> <td>   -3.441</td> <td> 0.001</td> <td>   -1.100</td> <td>   -0.302</td>\n",
              "</tr>\n",
              "<tr>\n",
              "  <th>team[T.Leicester]</th>          <td>   -0.4204</td> <td>    0.187</td> <td>   -2.249</td> <td> 0.025</td> <td>   -0.787</td> <td>   -0.054</td>\n",
              "</tr>\n",
              "<tr>\n",
              "  <th>team[T.Liverpool]</th>          <td>    0.0162</td> <td>    0.164</td> <td>    0.099</td> <td> 0.921</td> <td>   -0.306</td> <td>    0.338</td>\n",
              "</tr>\n",
              "<tr>\n",
              "  <th>team[T.Man City]</th>           <td>    0.0117</td> <td>    0.164</td> <td>    0.072</td> <td> 0.943</td> <td>   -0.310</td> <td>    0.334</td>\n",
              "</tr>\n",
              "<tr>\n",
              "  <th>team[T.Man United]</th>         <td>   -0.3572</td> <td>    0.181</td> <td>   -1.971</td> <td> 0.049</td> <td>   -0.713</td> <td>   -0.002</td>\n",
              "</tr>\n",
              "<tr>\n",
              "  <th>team[T.Middlesbrough]</th>      <td>   -1.0087</td> <td>    0.225</td> <td>   -4.481</td> <td> 0.000</td> <td>   -1.450</td> <td>   -0.568</td>\n",
              "</tr>\n",
              "<tr>\n",
              "  <th>team[T.Southampton]</th>        <td>   -0.5804</td> <td>    0.195</td> <td>   -2.976</td> <td> 0.003</td> <td>   -0.963</td> <td>   -0.198</td>\n",
              "</tr>\n",
              "<tr>\n",
              "  <th>team[T.Stoke]</th>              <td>   -0.6082</td> <td>    0.197</td> <td>   -3.094</td> <td> 0.002</td> <td>   -0.994</td> <td>   -0.223</td>\n",
              "</tr>\n",
              "<tr>\n",
              "  <th>team[T.Sunderland]</th>         <td>   -0.9619</td> <td>    0.222</td> <td>   -4.329</td> <td> 0.000</td> <td>   -1.397</td> <td>   -0.526</td>\n",
              "</tr>\n",
              "<tr>\n",
              "  <th>team[T.Swansea]</th>            <td>   -0.5136</td> <td>    0.192</td> <td>   -2.673</td> <td> 0.008</td> <td>   -0.890</td> <td>   -0.137</td>\n",
              "</tr>\n",
              "<tr>\n",
              "  <th>team[T.Tottenham]</th>          <td>    0.0532</td> <td>    0.162</td> <td>    0.328</td> <td> 0.743</td> <td>   -0.265</td> <td>    0.371</td>\n",
              "</tr>\n",
              "<tr>\n",
              "  <th>team[T.Watford]</th>            <td>   -0.5969</td> <td>    0.197</td> <td>   -3.035</td> <td> 0.002</td> <td>   -0.982</td> <td>   -0.211</td>\n",
              "</tr>\n",
              "<tr>\n",
              "  <th>team[T.West Brom]</th>          <td>   -0.5567</td> <td>    0.194</td> <td>   -2.876</td> <td> 0.004</td> <td>   -0.936</td> <td>   -0.177</td>\n",
              "</tr>\n",
              "<tr>\n",
              "  <th>team[T.West Ham]</th>           <td>   -0.4802</td> <td>    0.189</td> <td>   -2.535</td> <td> 0.011</td> <td>   -0.851</td> <td>   -0.109</td>\n",
              "</tr>\n",
              "<tr>\n",
              "  <th>opponent[T.Bournemouth]</th>    <td>    0.4109</td> <td>    0.196</td> <td>    2.092</td> <td> 0.036</td> <td>    0.026</td> <td>    0.796</td>\n",
              "</tr>\n",
              "<tr>\n",
              "  <th>opponent[T.Burnley]</th>        <td>    0.1657</td> <td>    0.206</td> <td>    0.806</td> <td> 0.420</td> <td>   -0.237</td> <td>    0.569</td>\n",
              "</tr>\n",
              "<tr>\n",
              "  <th>opponent[T.Chelsea]</th>        <td>   -0.3036</td> <td>    0.234</td> <td>   -1.298</td> <td> 0.194</td> <td>   -0.762</td> <td>    0.155</td>\n",
              "</tr>\n",
              "<tr>\n",
              "  <th>opponent[T.Crystal Palace]</th> <td>    0.3287</td> <td>    0.200</td> <td>    1.647</td> <td> 0.100</td> <td>   -0.062</td> <td>    0.720</td>\n",
              "</tr>\n",
              "<tr>\n",
              "  <th>opponent[T.Everton]</th>        <td>   -0.0442</td> <td>    0.218</td> <td>   -0.202</td> <td> 0.840</td> <td>   -0.472</td> <td>    0.384</td>\n",
              "</tr>\n",
              "<tr>\n",
              "  <th>opponent[T.Hull]</th>           <td>    0.4979</td> <td>    0.193</td> <td>    2.585</td> <td> 0.010</td> <td>    0.120</td> <td>    0.875</td>\n",
              "</tr>\n",
              "<tr>\n",
              "  <th>opponent[T.Leicester]</th>      <td>    0.3369</td> <td>    0.199</td> <td>    1.694</td> <td> 0.090</td> <td>   -0.053</td> <td>    0.727</td>\n",
              "</tr>\n",
              "<tr>\n",
              "  <th>opponent[T.Liverpool]</th>      <td>   -0.0374</td> <td>    0.217</td> <td>   -0.172</td> <td> 0.863</td> <td>   -0.463</td> <td>    0.389</td>\n",
              "</tr>\n",
              "<tr>\n",
              "  <th>opponent[T.Man City]</th>       <td>   -0.0993</td> <td>    0.222</td> <td>   -0.448</td> <td> 0.654</td> <td>   -0.534</td> <td>    0.335</td>\n",
              "</tr>\n",
              "<tr>\n",
              "  <th>opponent[T.Man United]</th>     <td>   -0.4220</td> <td>    0.241</td> <td>   -1.754</td> <td> 0.079</td> <td>   -0.894</td> <td>    0.050</td>\n",
              "</tr>\n",
              "<tr>\n",
              "  <th>opponent[T.Middlesbrough]</th>  <td>    0.1196</td> <td>    0.208</td> <td>    0.574</td> <td> 0.566</td> <td>   -0.289</td> <td>    0.528</td>\n",
              "</tr>\n",
              "<tr>\n",
              "  <th>opponent[T.Southampton]</th>    <td>    0.0458</td> <td>    0.211</td> <td>    0.217</td> <td> 0.828</td> <td>   -0.369</td> <td>    0.460</td>\n",
              "</tr>\n",
              "<tr>\n",
              "  <th>opponent[T.Stoke]</th>          <td>    0.2266</td> <td>    0.203</td> <td>    1.115</td> <td> 0.265</td> <td>   -0.172</td> <td>    0.625</td>\n",
              "</tr>\n",
              "<tr>\n",
              "  <th>opponent[T.Sunderland]</th>     <td>    0.3707</td> <td>    0.198</td> <td>    1.876</td> <td> 0.061</td> <td>   -0.017</td> <td>    0.758</td>\n",
              "</tr>\n",
              "<tr>\n",
              "  <th>opponent[T.Swansea]</th>        <td>    0.4336</td> <td>    0.195</td> <td>    2.227</td> <td> 0.026</td> <td>    0.052</td> <td>    0.815</td>\n",
              "</tr>\n",
              "<tr>\n",
              "  <th>opponent[T.Tottenham]</th>      <td>   -0.5431</td> <td>    0.252</td> <td>   -2.156</td> <td> 0.031</td> <td>   -1.037</td> <td>   -0.049</td>\n",
              "</tr>\n",
              "<tr>\n",
              "  <th>opponent[T.Watford]</th>        <td>    0.3533</td> <td>    0.198</td> <td>    1.782</td> <td> 0.075</td> <td>   -0.035</td> <td>    0.742</td>\n",
              "</tr>\n",
              "<tr>\n",
              "  <th>opponent[T.West Brom]</th>      <td>    0.0970</td> <td>    0.209</td> <td>    0.463</td> <td> 0.643</td> <td>   -0.313</td> <td>    0.507</td>\n",
              "</tr>\n",
              "<tr>\n",
              "  <th>opponent[T.West Ham]</th>       <td>    0.3485</td> <td>    0.198</td> <td>    1.758</td> <td> 0.079</td> <td>   -0.040</td> <td>    0.737</td>\n",
              "</tr>\n",
              "<tr>\n",
              "  <th>home</th>                       <td>    0.2969</td> <td>    0.063</td> <td>    4.702</td> <td> 0.000</td> <td>    0.173</td> <td>    0.421</td>\n",
              "</tr>\n",
              "</table>"
            ],
            "text/plain": [
              "<class 'statsmodels.iolib.summary.Summary'>\n",
              "\"\"\"\n",
              "                 Generalized Linear Model Regression Results                  \n",
              "==============================================================================\n",
              "Dep. Variable:                  goals   No. Observations:                  740\n",
              "Model:                            GLM   Df Residuals:                      700\n",
              "Model Family:                 Poisson   Df Model:                           39\n",
              "Link Function:                    log   Scale:                          1.0000\n",
              "Method:                          IRLS   Log-Likelihood:                -1042.4\n",
              "Date:                Tue, 11 May 2021   Deviance:                       776.11\n",
              "Time:                        21:42:33   Pearson chi2:                     659.\n",
              "No. Iterations:                     5                                         \n",
              "Covariance Type:            nonrobust                                         \n",
              "==============================================================================================\n",
              "                                 coef    std err          z      P>|z|      [0.025      0.975]\n",
              "----------------------------------------------------------------------------------------------\n",
              "Intercept                      0.3725      0.198      1.880      0.060      -0.016       0.761\n",
              "team[T.Bournemouth]           -0.2891      0.179     -1.612      0.107      -0.641       0.062\n",
              "team[T.Burnley]               -0.6458      0.200     -3.230      0.001      -1.038      -0.254\n",
              "team[T.Chelsea]                0.0789      0.162      0.488      0.626      -0.238       0.396\n",
              "team[T.Crystal Palace]        -0.3865      0.183     -2.107      0.035      -0.746      -0.027\n",
              "team[T.Everton]               -0.2008      0.173     -1.161      0.246      -0.540       0.138\n",
              "team[T.Hull]                  -0.7006      0.204     -3.441      0.001      -1.100      -0.302\n",
              "team[T.Leicester]             -0.4204      0.187     -2.249      0.025      -0.787      -0.054\n",
              "team[T.Liverpool]              0.0162      0.164      0.099      0.921      -0.306       0.338\n",
              "team[T.Man City]               0.0117      0.164      0.072      0.943      -0.310       0.334\n",
              "team[T.Man United]            -0.3572      0.181     -1.971      0.049      -0.713      -0.002\n",
              "team[T.Middlesbrough]         -1.0087      0.225     -4.481      0.000      -1.450      -0.568\n",
              "team[T.Southampton]           -0.5804      0.195     -2.976      0.003      -0.963      -0.198\n",
              "team[T.Stoke]                 -0.6082      0.197     -3.094      0.002      -0.994      -0.223\n",
              "team[T.Sunderland]            -0.9619      0.222     -4.329      0.000      -1.397      -0.526\n",
              "team[T.Swansea]               -0.5136      0.192     -2.673      0.008      -0.890      -0.137\n",
              "team[T.Tottenham]              0.0532      0.162      0.328      0.743      -0.265       0.371\n",
              "team[T.Watford]               -0.5969      0.197     -3.035      0.002      -0.982      -0.211\n",
              "team[T.West Brom]             -0.5567      0.194     -2.876      0.004      -0.936      -0.177\n",
              "team[T.West Ham]              -0.4802      0.189     -2.535      0.011      -0.851      -0.109\n",
              "opponent[T.Bournemouth]        0.4109      0.196      2.092      0.036       0.026       0.796\n",
              "opponent[T.Burnley]            0.1657      0.206      0.806      0.420      -0.237       0.569\n",
              "opponent[T.Chelsea]           -0.3036      0.234     -1.298      0.194      -0.762       0.155\n",
              "opponent[T.Crystal Palace]     0.3287      0.200      1.647      0.100      -0.062       0.720\n",
              "opponent[T.Everton]           -0.0442      0.218     -0.202      0.840      -0.472       0.384\n",
              "opponent[T.Hull]               0.4979      0.193      2.585      0.010       0.120       0.875\n",
              "opponent[T.Leicester]          0.3369      0.199      1.694      0.090      -0.053       0.727\n",
              "opponent[T.Liverpool]         -0.0374      0.217     -0.172      0.863      -0.463       0.389\n",
              "opponent[T.Man City]          -0.0993      0.222     -0.448      0.654      -0.534       0.335\n",
              "opponent[T.Man United]        -0.4220      0.241     -1.754      0.079      -0.894       0.050\n",
              "opponent[T.Middlesbrough]      0.1196      0.208      0.574      0.566      -0.289       0.528\n",
              "opponent[T.Southampton]        0.0458      0.211      0.217      0.828      -0.369       0.460\n",
              "opponent[T.Stoke]              0.2266      0.203      1.115      0.265      -0.172       0.625\n",
              "opponent[T.Sunderland]         0.3707      0.198      1.876      0.061      -0.017       0.758\n",
              "opponent[T.Swansea]            0.4336      0.195      2.227      0.026       0.052       0.815\n",
              "opponent[T.Tottenham]         -0.5431      0.252     -2.156      0.031      -1.037      -0.049\n",
              "opponent[T.Watford]            0.3533      0.198      1.782      0.075      -0.035       0.742\n",
              "opponent[T.West Brom]          0.0970      0.209      0.463      0.643      -0.313       0.507\n",
              "opponent[T.West Ham]           0.3485      0.198      1.758      0.079      -0.040       0.737\n",
              "home                           0.2969      0.063      4.702      0.000       0.173       0.421\n",
              "==============================================================================================\n",
              "\"\"\""
            ]
          },
          "metadata": {
            "tags": []
          },
          "execution_count": 9
        }
      ]
    },
    {
      "cell_type": "markdown",
      "metadata": {
        "id": "_cygSV5UYcMd"
      },
      "source": [
        "**Explain:** The Coef is the slope of Logistic reg., It is the output we are interested in. The more positive the value of coef_ the more goals, closer to 0 it implies neutrality. Here we see home as 0.2969 meaning the home team has more goals.For more on glm : click here; [link text](https://www.statsmodels.org/stable/examples/notebooks/generated/glm_formula.html)\n",
        "Finally, the opponent* values penalize/reward teams based on the quality of the opposition. This relfects the defensive strength of each team (Chelsea: -0.3036; Sunderland: 0.3707). In other words, you’re less likely to score against Chelsea. Hopefully, that all makes both statistical and intuitive sense.\n"
      ]
    },
    {
      "cell_type": "code",
      "metadata": {
        "colab": {
          "base_uri": "https://localhost:8080/"
        },
        "id": "n0rGAzUxX4s2",
        "outputId": "5a203490-78be-4846-e24e-bca44c1e88b2"
      },
      "source": [
        "poisson_model.predict(pd.DataFrame(data={'team': 'Chelsea', 'opponent': 'Sunderland',  \n",
        "                                       'home':1},index=[1])) # the average number of goals against sunderland is 3.06"
      ],
      "execution_count": 10,
      "outputs": [
        {
          "output_type": "execute_result",
          "data": {
            "text/plain": [
              "1    3.061662\n",
              "dtype: float64"
            ]
          },
          "metadata": {
            "tags": []
          },
          "execution_count": 10
        }
      ]
    },
    {
      "cell_type": "code",
      "metadata": {
        "colab": {
          "base_uri": "https://localhost:8080/"
        },
        "id": "gi7cBoSKZ-iU",
        "outputId": "2b85a743-24a9-4104-f19a-936f0d24fecf"
      },
      "source": [
        "poisson_model.predict(pd.DataFrame(data={'team': 'Sunderland', 'opponent': 'Chelsea',\n",
        "                                       'home':0},index=[1]))"
      ],
      "execution_count": 11,
      "outputs": [
        {
          "output_type": "execute_result",
          "data": {
            "text/plain": [
              "1    0.409373\n",
              "dtype: float64"
            ]
          },
          "metadata": {
            "tags": []
          },
          "execution_count": 11
        }
      ]
    },
    {
      "cell_type": "markdown",
      "metadata": {
        "id": "V0FHksk_afvS"
      },
      "source": [
        "**Using Two Poisson Distribution, I will wrap this in a function called simulate_match**"
      ]
    },
    {
      "cell_type": "code",
      "metadata": {
        "id": "v3oAU9D6a59C"
      },
      "source": [
        "def simulate_match(foot_model, homeTeam, awayTeam, max_goals=10):\n",
        "    home_goals_avg = foot_model.predict(pd.DataFrame(data ={'team':homeTeam, 'opponent':awayTeam, 'home':1}, index=[1])).values[0]\n",
        "    away_goals_avg = foot_model.predict(pd.DataFrame(data={'team': awayTeam, 'opponent': homeTeam, 'home': 0}, index=[1])).values[0]  \n",
        "    team_pred = [[poisson.pmf(i, team_avg) for i in range(0, max_goals+1)] for team_avg in [home_goals_avg, away_goals_avg]] \n",
        "    return(np.outer(np.array(team_pred[0]), np.array(team_pred[1])))"
      ],
      "execution_count": 20,
      "outputs": []
    },
    {
      "cell_type": "code",
      "metadata": {
        "colab": {
          "base_uri": "https://localhost:8080/"
        },
        "id": "3oommOPPl4Po",
        "outputId": "05ea52a2-a5b0-43dd-ddd0-4cdf3a8cc94a"
      },
      "source": [
        "simulate_match(poisson_model, 'Chelsea', 'Sunderland', max_goals=3)"
      ],
      "execution_count": 22,
      "outputs": [
        {
          "output_type": "execute_result",
          "data": {
            "text/plain": [
              "array([[0.03108485, 0.01272529, 0.00260469, 0.00035543],\n",
              "       [0.0951713 , 0.03896054, 0.00797469, 0.00108821],\n",
              "       [0.14569118, 0.059642  , 0.01220791, 0.00166586],\n",
              "       [0.14868571, 0.06086788, 0.01245883, 0.0017001 ]])"
            ]
          },
          "metadata": {
            "tags": []
          },
          "execution_count": 22
        }
      ]
    },
    {
      "cell_type": "markdown",
      "metadata": {
        "id": "tzWwd6tCpCjT"
      },
      "source": [
        "**For example, along the diagonal, both teams score the same the number of goals (e.g. P(0-0)=0.031).**\n",
        "\n",
        "Everything below the diagonal represents a Chelsea victory (e.g P(3-0)=0.149). If you prefer Over/Under markets, you can estimate P(Under 2.5 goals) by summing the entries where the sum of the column number and row number (both starting at zero) is less than 3 (i.e. the 6 values that form the upper left triangle)"
      ]
    },
    {
      "cell_type": "code",
      "metadata": {
        "id": "dB4VAZsApBjl"
      },
      "source": [
        "# Simulate Chelsea_Sunderland\n",
        "chel_sun = simulate_match(poisson_model, \"Chelsea\", \"Sunderland\", max_goals=10)"
      ],
      "execution_count": 23,
      "outputs": []
    },
    {
      "cell_type": "code",
      "metadata": {
        "colab": {
          "base_uri": "https://localhost:8080/"
        },
        "id": "3wiSHhmpqdHS",
        "outputId": "60d69488-c1c9-4628-d814-2c6e555cd5e4"
      },
      "source": [
        "# chelsea win\n",
        "np.sum(np.tril(chel_sun, -1))"
      ],
      "execution_count": 25,
      "outputs": [
        {
          "output_type": "execute_result",
          "data": {
            "text/plain": [
              "0.8885986612364136"
            ]
          },
          "metadata": {
            "tags": []
          },
          "execution_count": 25
        }
      ]
    },
    {
      "cell_type": "code",
      "metadata": {
        "colab": {
          "base_uri": "https://localhost:8080/"
        },
        "id": "y1lWc8BNqvLb",
        "outputId": "9df10a6a-091b-4aa9-a5ac-c9dd13832c98"
      },
      "source": [
        "# draw\n",
        "np.sum(np.diag(chel_sun))"
      ],
      "execution_count": 26,
      "outputs": [
        {
          "output_type": "execute_result",
          "data": {
            "text/plain": [
              "0.08409349268649578"
            ]
          },
          "metadata": {
            "tags": []
          },
          "execution_count": 26
        }
      ]
    },
    {
      "cell_type": "code",
      "metadata": {
        "colab": {
          "base_uri": "https://localhost:8080/"
        },
        "id": "s18A6SFzqykB",
        "outputId": "d7f6fdca-59bc-449a-86f5-733f28f6e1b0"
      },
      "source": [
        "# sunderland win\n",
        "np.sum(np.triu(chel_sun, 1)) #our model gives Sunderland a 2.7% "
      ],
      "execution_count": 27,
      "outputs": [
        {
          "output_type": "execute_result",
          "data": {
            "text/plain": [
              "0.02696181994285301"
            ]
          },
          "metadata": {
            "tags": []
          },
          "execution_count": 27
        }
      ]
    },
    {
      "cell_type": "markdown",
      "metadata": {
        "id": "2OAUNC70r0QS"
      },
      "source": [
        "If that assumption is misguided, then the model outputs will be unreliable. Given a Poisson distribution with mean λ, then the number of events in half that time period follows a Poisson distribution with mean λ/2. In football terms, according to our Poisson model, there should be an equal number of goals in the first and second halves. Unfortunately, that doesn’t appear to hold true."
      ]
    },
    {
      "cell_type": "code",
      "metadata": {
        "id": "7_Jfq9Ygq6JK"
      },
      "source": [
        "epl_1617_halves = pd.read_csv(\"http://www.football-data.co.uk/mmz4281/1617/E0.csv\")\n",
        "epl_1617_halves = epl_1617_halves[['FTHG', 'FTAG', 'HTHG', 'HTAG']]\n",
        "epl_1617_halves['FHgoals'] = epl_1617_halves['HTHG'] + epl_1617_halves['HTAG']\n",
        "epl_1617_halves['SHgoals'] = epl_1617_halves['FTHG'] + epl_1617_halves['FTAG'] - epl_1617_halves['FHgoals']\n",
        "epl_1617_halves = epl_1617_halves[['FHgoals', 'SHgoals']]"
      ],
      "execution_count": 29,
      "outputs": []
    }
  ]
}